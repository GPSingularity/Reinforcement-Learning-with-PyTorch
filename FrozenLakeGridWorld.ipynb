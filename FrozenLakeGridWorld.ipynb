{
  "nbformat": 4,
  "nbformat_minor": 0,
  "metadata": {
    "colab": {
      "name": "FrozenLakeGridWorld.ipynb",
      "provenance": []
    },
    "kernelspec": {
      "name": "python3",
      "display_name": "Python 3"
    }
  },
  "cells": [
    {
      "cell_type": "code",
      "metadata": {
        "colab": {
          "base_uri": "https://localhost:8080/"
        },
        "id": "QNB9ofmNYv4R",
        "outputId": "89be44f3-8eb2-4e8b-c172-f42ac1380527"
      },
      "source": [
        "import gym\n",
        "\n",
        "gym.envs.register(\n",
        "    id='FrozenLakeNotSlippery-v0',\n",
        "    entry_point='gym.envs.toy_text:FrozenLakeEnv',\n",
        "    kwargs={'map_name' : '4x4', 'is_slippery': False},\n",
        "    max_episode_steps=100,\n",
        "    reward_threshold=0.74, # optimum = .9596\n",
        ")\n",
        "\n",
        "env = gym.make('FrozenLakeNotSlippery-v0')\n",
        "print(env.observation_space)"
      ],
      "execution_count": 1,
      "outputs": [
        {
          "output_type": "stream",
          "text": [
            "Discrete(16)\n"
          ],
          "name": "stdout"
        }
      ]
    },
    {
      "cell_type": "code",
      "metadata": {
        "colab": {
          "base_uri": "https://localhost:8080/"
        },
        "id": "ITPwpkT3Y-jp",
        "outputId": "ed3715bf-3278-4028-ed78-31c08e307d8a"
      },
      "source": [
        "State_space = env.observation_space.n\n",
        "print(State_space)"
      ],
      "execution_count": 2,
      "outputs": [
        {
          "output_type": "stream",
          "text": [
            "16\n"
          ],
          "name": "stdout"
        }
      ]
    },
    {
      "cell_type": "code",
      "metadata": {
        "colab": {
          "base_uri": "https://localhost:8080/"
        },
        "id": "kf7C7QOsf30H",
        "outputId": "71d80fcc-91c2-45bb-cb34-1636ccda37fa"
      },
      "source": [
        "for g in range(15):\n",
        "    print(env.observation_space.sample())\n",
        " "
      ],
      "execution_count": 8,
      "outputs": [
        {
          "output_type": "stream",
          "text": [
            "9\n",
            "15\n",
            "14\n",
            "7\n",
            "10\n",
            "14\n",
            "0\n",
            "9\n",
            "2\n",
            "11\n",
            "12\n",
            "12\n",
            "6\n",
            "8\n",
            "15\n"
          ],
          "name": "stdout"
        }
      ]
    },
    {
      "cell_type": "code",
      "metadata": {
        "colab": {
          "base_uri": "https://localhost:8080/"
        },
        "id": "jCF5_XPLg11V",
        "outputId": "ba4558a8-4951-43f7-87ae-990f5410ee65"
      },
      "source": [
        "   print(env.action_space)"
      ],
      "execution_count": 6,
      "outputs": [
        {
          "output_type": "stream",
          "text": [
            "Discrete(4)\n"
          ],
          "name": "stdout"
        }
      ]
    },
    {
      "cell_type": "code",
      "metadata": {
        "colab": {
          "base_uri": "https://localhost:8080/"
        },
        "id": "gkl_yTuPhgG-",
        "outputId": "602a05a8-6721-4039-beec-9c78c43c0eb0"
      },
      "source": [
        "for g in range(15):\n",
        "    print(env.action_space.sample())"
      ],
      "execution_count": 9,
      "outputs": [
        {
          "output_type": "stream",
          "text": [
            "3\n",
            "3\n",
            "2\n",
            "1\n",
            "3\n",
            "3\n",
            "1\n",
            "0\n",
            "1\n",
            "0\n",
            "3\n",
            "2\n",
            "3\n",
            "2\n",
            "0\n"
          ],
          "name": "stdout"
        }
      ]
    },
    {
      "cell_type": "code",
      "metadata": {
        "colab": {
          "base_uri": "https://localhost:8080/"
        },
        "id": "6JeiZreWinQc",
        "outputId": "b627296d-8201-4d05-f00b-d560dd60a706"
      },
      "source": [
        "env.reset()\n",
        "env.render()"
      ],
      "execution_count": 10,
      "outputs": [
        {
          "output_type": "stream",
          "text": [
            "\n",
            "\u001b[41mS\u001b[0mFFF\n",
            "FHFH\n",
            "FFFH\n",
            "HFFG\n"
          ],
          "name": "stdout"
        }
      ]
    },
    {
      "cell_type": "code",
      "metadata": {
        "colab": {
          "base_uri": "https://localhost:8080/"
        },
        "id": "Z7cwtyeOlRRg",
        "outputId": "9527d69f-4e6f-40b7-9e4f-8b3c2052395e"
      },
      "source": [
        "env.reset()\n",
        "action = 0\n",
        "(observation, reward, compute, probability) = env.step(action)\n",
        "env.render()\n",
        "print(observation, reward, compute, probability)\n",
        "env.reset()\n",
        "action = 1\n",
        "(observation, reward, compute, probability) = env.step(action)\n",
        "env.render()\n",
        "print(observation, reward, compute, probability)\n",
        "env.reset()\n",
        "action = 2\n",
        "(observation, reward, compute, probability) = env.step(action)\n",
        "env.render()\n",
        "print(observation, reward, compute, probability)\n",
        "env.reset()\n",
        "action = 2\n",
        "(observation, reward, compute, probability) = env.step(action)\n",
        "env.render()\n",
        "(observation, reward, done, prob) = env.step(action)\n",
        "env.render()\n",
        "print(observation, reward, compute, probability)\n",
        "env.reset()\n",
        "action = 1\n",
        "(observation, reward, compute, probability) = env.step(action)\n",
        "env.render()\n",
        "(observation, reward, compute, probability) = env.step(action)\n",
        "env.render()\n",
        "(observation, reward, compute, probability) = env.step(action)\n",
        "env.render()\n",
        "print(observation, reward, compute, probability)"
      ],
      "execution_count": 18,
      "outputs": [
        {
          "output_type": "stream",
          "text": [
            "  (Left)\n",
            "\u001b[41mS\u001b[0mFFF\n",
            "FHFH\n",
            "FFFH\n",
            "HFFG\n",
            "0 0.0 False {'prob': 1.0}\n",
            "  (Down)\n",
            "SFFF\n",
            "\u001b[41mF\u001b[0mHFH\n",
            "FFFH\n",
            "HFFG\n",
            "4 0.0 False {'prob': 1.0}\n",
            "  (Right)\n",
            "S\u001b[41mF\u001b[0mFF\n",
            "FHFH\n",
            "FFFH\n",
            "HFFG\n",
            "1 0.0 False {'prob': 1.0}\n",
            "  (Right)\n",
            "S\u001b[41mF\u001b[0mFF\n",
            "FHFH\n",
            "FFFH\n",
            "HFFG\n",
            "  (Right)\n",
            "SF\u001b[41mF\u001b[0mF\n",
            "FHFH\n",
            "FFFH\n",
            "HFFG\n",
            "2 0.0 False {'prob': 1.0}\n",
            "  (Down)\n",
            "SFFF\n",
            "\u001b[41mF\u001b[0mHFH\n",
            "FFFH\n",
            "HFFG\n",
            "  (Down)\n",
            "SFFF\n",
            "FHFH\n",
            "\u001b[41mF\u001b[0mFFH\n",
            "HFFG\n",
            "  (Down)\n",
            "SFFF\n",
            "FHFH\n",
            "FFFH\n",
            "\u001b[41mH\u001b[0mFFG\n",
            "12 0.0 True {'prob': 1.0}\n"
          ],
          "name": "stdout"
        }
      ]
    },
    {
      "cell_type": "code",
      "metadata": {
        "colab": {
          "base_uri": "https://localhost:8080/"
        },
        "id": "scI-WI57pUrl",
        "outputId": "e2aaebaa-1466-4de2-fc0c-205ea6ae2e04"
      },
      "source": [
        "action = 2\n",
        "(observation, reward, compute, probability) = env.step(action)\n",
        "env.render()\n",
        "(observation, reward, compute, probability) = env.step(action)\n",
        "env.render()\n",
        "action = 1\n",
        "(observation, reward, compute, probability) = env.step(action)\n",
        "env.render()\n",
        "(observation, reward, compute, probability) = env.step(action)\n",
        "env.render()\n",
        "(observation, reward, compute, probability) = env.step(action)\n",
        "env.render()\n",
        "action = 2\n",
        "(observation, reward, compute, probability) = env.step(action)\n",
        "env.render()\n",
        "print(observation, reward, compute, probability)"
      ],
      "execution_count": 19,
      "outputs": [
        {
          "output_type": "stream",
          "text": [
            "  (Right)\n",
            "SFFF\n",
            "FHFH\n",
            "FFFH\n",
            "\u001b[41mH\u001b[0mFFG\n",
            "  (Right)\n",
            "SFFF\n",
            "FHFH\n",
            "FFFH\n",
            "\u001b[41mH\u001b[0mFFG\n",
            "  (Down)\n",
            "SFFF\n",
            "FHFH\n",
            "FFFH\n",
            "\u001b[41mH\u001b[0mFFG\n",
            "  (Down)\n",
            "SFFF\n",
            "FHFH\n",
            "FFFH\n",
            "\u001b[41mH\u001b[0mFFG\n",
            "  (Down)\n",
            "SFFF\n",
            "FHFH\n",
            "FFFH\n",
            "\u001b[41mH\u001b[0mFFG\n",
            "  (Right)\n",
            "SFFF\n",
            "FHFH\n",
            "FFFH\n",
            "\u001b[41mH\u001b[0mFFG\n",
            "12 0 True {'prob': 1.0}\n"
          ],
          "name": "stdout"
        }
      ]
    }
  ]
}