{
 "cells": [
  {
   "cell_type": "code",
   "execution_count": null,
   "metadata": {
    "colab": {},
    "colab_type": "code",
    "id": "2M9HXv7NhOub"
   },
   "outputs": [],
   "source": [
    "import gym\n",
    "import math\n",
    "import numpy as np\n",
    "from collections import deque\n",
    "import matplotlib.pyplot as plt\n",
    "%matplotlib inline"
   ]
  },
  {
   "cell_type": "code",
   "execution_count": null,
   "metadata": {
    "colab": {},
    "colab_type": "code",
    "id": "x12sffNlhXwq"
   },
   "outputs": [],
   "source": [
    "import os \n",
    "import torch\n",
    "import torch.nn as neural\n",
    "import torch.nn.functional as F\n",
    "from torch.autograd import Variable"
   ]
  },
  {
   "cell_type": "code",
   "execution_count": null,
   "metadata": {
    "colab": {},
    "colab_type": "code",
    "id": "HlkzromrhaN0"
   },
   "outputs": [],
   "source": [
    "device = torch.device(\"cuda:0\" if torch.cuda.is_available() else \"cpu\")"
   ]
  },
  {
   "cell_type": "code",
   "execution_count": null,
   "metadata": {
    "colab": {
     "base_uri": "https://localhost:8080/",
     "height": 85
    },
    "colab_type": "code",
    "id": "TaFMuVKDhf8p",
    "outputId": "9702052c-89aa-4fa5-92d8-b1b33f04b9cc"
   },
   "outputs": [
    {
     "name": "stdout",
     "output_type": "stream",
     "text": [
      "MountainCar Environment's Observation Space (2,)\n",
      "MountainCar Environment's Action Space Box(1,)\n",
      "MountainCar Environment's Action Space Min [-1.]\n",
      "MountainCar Environment's Action Space Max [1.]\n"
     ]
    }
   ],
   "source": [
    "import gym\n",
    "from time import sleep\n",
    "       \n",
    "environment = gym.make('MountainCarContinuous-v0')\n",
    "environment.seed(101)\n",
    "np.random.seed(101)\n",
    "\n",
    "observation_space_shape = environment.observation_space.shape\n",
    "action_space = environment.action_space\n",
    "action_space_low = environment.action_space.low\n",
    "action_space_high = environment.action_space.high\n",
    "\n",
    "print(\"MountainCar Environment's Observation Space\", observation_space_shape)\n",
    "print(\"MountainCar Environment's Action Space\", action_space)\n",
    "print(\"MountainCar Environment's Action Space Min\", action_space_low)\n",
    "print(\"MountainCar Environment's Action Space Max\", action_space_high)"
   ]
  },
  {
   "cell_type": "code",
   "execution_count": null,
   "metadata": {
    "colab": {},
    "colab_type": "code",
    "id": "0Ptor7f5hkaT"
   },
   "outputs": [],
   "source": [
    "device = torch.device(\"cuda:0\" if torch.cuda.is_available() else \"cpu\")"
   ]
  },
  {
   "cell_type": "code",
   "execution_count": null,
   "metadata": {
    "colab": {
     "base_uri": "https://localhost:8080/",
     "height": 323
    },
    "colab_type": "code",
    "id": "P6dCvFULuo89",
    "outputId": "64c0a7ea-de2f-481b-d8ea-54e8fb923e65"
   },
   "outputs": [
    {
     "name": "stderr",
     "output_type": "stream",
     "text": [
      "/usr/local/lib/python3.6/dist-packages/torch/nn/functional.py:1320: UserWarning: nn.functional.tanh is deprecated. Use torch.tanh instead.\n",
      "  warnings.warn(\"nn.functional.tanh is deprecated. Use torch.tanh instead.\")\n"
     ]
    },
    {
     "name": "stdout",
     "output_type": "stream",
     "text": [
      "Episode 10\tAverage Score: -1.44\n",
      "Episode 20\tAverage Score: -3.98\n",
      "Episode 30\tAverage Score: -4.18\n",
      "Episode 40\tAverage Score: 2.57\n",
      "Episode 50\tAverage Score: 18.74\n",
      "Episode 60\tAverage Score: 29.35\n",
      "Episode 70\tAverage Score: 38.69\n",
      "Episode 80\tAverage Score: 45.65\n",
      "Episode 90\tAverage Score: 47.98\n",
      "Episode 100\tAverage Score: 52.56\n",
      "Episode 110\tAverage Score: 62.09\n",
      "Episode 120\tAverage Score: 72.28\n",
      "Episode 130\tAverage Score: 82.21\n",
      "Episode 140\tAverage Score: 89.48\n",
      "\n",
      "Environment solved in 47 iterations!\tAverage Score: 90.83\n"
     ]
    }
   ],
   "source": [
    "class MountainCarAgent(neural.Module):\n",
    "    def __init__(self, environment, hidden_layer=16):\n",
    "        super(MountainCarAgent, self).__init__()\n",
    "        self.environment = environment\n",
    "        # state, hidden layer, action sizes\n",
    "        self.input_layer = environment.observation_space.shape[0]\n",
    "        self.hidden_layer = hidden_layer\n",
    "        self.output_layer = environment.action_space.shape[0]\n",
    "        # define layers\n",
    "        self.fullyconnected1 = neural.Linear(self.input_layer, self.hidden_layer)\n",
    "        self.fullyconnected2 = neural.Linear(self.hidden_layer, self.output_layer)\n",
    "        \n",
    "    def assign_weight_dims(self, weights):\n",
    "        input_layer = self.input_layer\n",
    "        hidden_layer = self.hidden_layer\n",
    "        output_layer = self.output_layer\n",
    "  \n",
    "        fullyconnected1_calcw = (input_layer*hidden_layer)+hidden_layer\n",
    "        fullyconnected1_weight = torch.from_numpy(weights[:input_layer*hidden_layer].reshape(input_layer, hidden_layer))\n",
    "        fullyconnected1_frac = torch.from_numpy(weights[input_layer*hidden_layer:fullyconnected1_calcw])\n",
    "        fullyconnected2_W = torch.from_numpy(weights[fullyconnected1_calcw:fullyconnected1_calcw+(hidden_layer*output_layer)].reshape(hidden_layer, output_layer))\n",
    "        fullyconnected2_b = torch.from_numpy(weights[fullyconnected1_calcw+(hidden_layer*output_layer):])\n",
    "\n",
    "        self.fullyconnected1.weight.data.copy_(fullyconnected1_weight.view_as(self.fullyconnected1.weight.data))\n",
    "        self.fullyconnected1.bias.data.copy_(fullyconnected1_frac.view_as(self.fullyconnected1.bias.data))\n",
    "        self.fullyconnected2.weight.data.copy_(fullyconnected2_W.view_as(self.fullyconnected2.weight.data))\n",
    "        self.fullyconnected2.bias.data.copy_(fullyconnected2_b.view_as(self.fullyconnected2.bias.data))\n",
    "    \n",
    "    def glean_weight_dims(self):\n",
    "        return (self.input_layer+1)*self.hidden_layer + (self.hidden_layer+1)*self.output_layer\n",
    "        \n",
    "    def forward(self, x):\n",
    "        x = F.relu(self.fullyconnected1(x))\n",
    "        x = F.tanh(self.fullyconnected2(x))\n",
    "        return x.cpu().data\n",
    "        \n",
    "    def cem_policy_evaluate(self, weights, gamma=1.0, max_t=5000):\n",
    "        self.assign_weight_dims(weights)\n",
    "        episodic_return = 0.0\n",
    "        state = self.environment.reset()\n",
    "        for t in range(max_t):\n",
    "            state = torch.from_numpy(state).float().to(device)\n",
    "            action = self.forward(state)\n",
    "            state, reward, done, _ = self.environment.step(action)\n",
    "            episodic_return += reward * math.pow(gamma, t)\n",
    "            if done:\n",
    "                break\n",
    "        return episodic_return\n",
    "    \n",
    "CEMAgent = MountainCarAgent(environment).to(device)\n",
    "\n",
    "\n",
    "def cem_rl_algorithm(n_iterations=500, max_t=1000, gamma=1.0, print_every=10, pop_size=50, top_frac=0.2, sigma=0.5):\n",
    "\n",
    "    top_list=int(pop_size*top_frac)\n",
    "\n",
    "    scores_deque = deque(maxlen=100)\n",
    "    scores = []\n",
    "    top_weight = sigma*np.random.randn(CEMAgent.glean_weight_dims())\n",
    "\n",
    "    for i_iteration in range(1, n_iterations+1):\n",
    "        weights_pop = [top_weight + (sigma*np.random.randn(CEMAgent.glean_weight_dims())) for i in range(pop_size)]\n",
    "        rewards = np.array([CEMAgent.cem_policy_evaluate(weights, gamma, max_t) for weights in weights_pop])\n",
    "\n",
    "        top_indices = rewards.argsort()[-top_list:]\n",
    "        top_weights = [weights_pop[i] for i in top_indices]\n",
    "        top_weight = np.array(top_weights).mean(axis=0)\n",
    "\n",
    "        reward = CEMAgent.cem_policy_evaluate(top_weight, gamma=1.0)\n",
    "        scores_deque.append(reward)\n",
    "        scores.append(reward)\n",
    "        \n",
    "        torch.save(CEMAgent.state_dict(), 'checkpoint.pth')\n",
    "        \n",
    "        if i_iteration % print_every == 0:\n",
    "            print('Episode {}\\tAverage Score: {:.2f}'.format(i_iteration, np.mean(scores_deque)))\n",
    "\n",
    "        if np.mean(scores_deque)>=90.0:\n",
    "            print('\\nEnvironment solved in {:d} iterations!\\tAverage Score: {:.2f}'.format(i_iteration-100, np.mean(scores_deque)))\n",
    "            break\n",
    "    return scores\n",
    "\n",
    "scores = cem_rl_algorithm()"
   ]
  }
 ],
 "metadata": {
  "accelerator": "GPU",
  "colab": {
   "collapsed_sections": [],
   "name": "CrossentropyRL.ipynb",
   "provenance": [],
   "version": "0.3.2"
  },
  "kernelspec": {
   "display_name": "Python 3",
   "language": "python",
   "name": "python3"
  },
  "language_info": {
   "codemirror_mode": {
    "name": "ipython",
    "version": 3
   },
   "file_extension": ".py",
   "mimetype": "text/x-python",
   "name": "python",
   "nbconvert_exporter": "python",
   "pygments_lexer": "ipython3",
   "version": "3.7.1"
  }
 },
 "nbformat": 4,
 "nbformat_minor": 2
}
